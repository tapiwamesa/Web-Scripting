{
 "cells": [
  {
   "cell_type": "markdown",
   "metadata": {},
   "source": [
    "# Web Scrapping of Zimbabwe Housing - 8 March 2023"
   ]
  },
  {
   "cell_type": "code",
   "execution_count": 58,
   "metadata": {},
   "outputs": [],
   "source": [
    "#importing our libraries\n",
    "\n",
    "from bs4 import BeautifulSoup \n",
    "import pandas as pd \n",
    "import requests"
   ]
  },
  {
   "cell_type": "markdown",
   "metadata": {},
   "source": [
    " "
   ]
  },
  {
   "cell_type": "markdown",
   "metadata": {},
   "source": [
    "## 1. Starting off with building a code that scraps one page. Lets name it SCRP"
   ]
  },
  {
   "cell_type": "code",
   "execution_count": 59,
   "metadata": {},
   "outputs": [],
   "source": [
    "#using variable url to store the url \n",
    "\n",
    "url = \"https://www.classifieds.co.zw/zimbabwe-houses-for-sale?page=1\"\n",
    "\n",
    "page = requests.get(url, verify = False)\n",
    "\n",
    "soup = BeautifulSoup(page.content, \"html.parser\")"
   ]
  },
  {
   "cell_type": "code",
   "execution_count": 60,
   "metadata": {},
   "outputs": [],
   "source": [
    "#finding all sections with class name \"details col-md-7 col-sm-7 col-xs-8\" and tag 'div', and storing them in sections variable \n",
    "sections = soup.find_all('div', class_ = \"details col-md-7 col-sm-7 col-xs-8\")"
   ]
  },
  {
   "cell_type": "markdown",
   "metadata": {},
   "source": [
    "### 1.1 Starting with the basics: \n",
    "#### The code below uses for loop to scrap through all html sections on page 1 that has tag 'div' and class 'details col-md-7 col-sm-7 col-xs-8'"
   ]
  },
  {
   "cell_type": "code",
   "execution_count": 61,
   "metadata": {
    "scrolled": true
   },
   "outputs": [
    {
     "data": {
      "text/plain": [
       "[['Greystone Park - House', '$320,000', '4292 m²', 'harare north'],\n",
       " ['New Marlborough - House', '$140,000', '2000 m²', 'harare west'],\n",
       " ['Chitungwiza - House', '$30,000', '1 bathrooms', 'chitungwiza'],\n",
       " ['Malindela - House', '$110,000', '2839 m²', 'bulawayo south'],\n",
       " ['Madokero - House', '$110,000', '400 m²', 'harare west'],\n",
       " ['Greendale - House', '$230,000', '2600 m²', 'harare east'],\n",
       " ['Vainona - House', '$320,000', '2200 m²', 'harare north'],\n",
       " ['Glen Lorne - House', '$195,000', '4000 m²', 'harare north'],\n",
       " ['Hatfield - House', '$115,000', '2506 m²', 'harare south'],\n",
       " ['Arlington - House', '$130,000', '320 m²', 'harare south'],\n",
       " ['Borrowdale - House', '$380,000', '3000 m²', 'harare north'],\n",
       " ['Burnside - House', '$70,000', '4000 m²', 'bulawayo east'],\n",
       " ['Hatfield - House', '$130,000', '4133 m²', 'harare south'],\n",
       " ['Chitungwiza - House', '$35,000', '400 m²', 'chitungwiza'],\n",
       " ['Helensvale - House', '$650,000', '4695 m²', 'harare north'],\n",
       " ['Mabvuku - House', '$27,000', '300 m²', 'harare high density'],\n",
       " ['Bradfield - House', '$145,000', '1 bathrooms', 'bulawayo south'],\n",
       " ['Ruwa - House', '$50,000', '500 m²', 'ruwa'],\n",
       " ['Aspindale Park - House', '$55,000', '200 m²', 'harare west'],\n",
       " ['Cowdray Park - House', '$27,000', '1 bathrooms', 'bulawayo high density']]"
      ]
     },
     "execution_count": 61,
     "metadata": {},
     "output_type": "execute_result"
    }
   ],
   "source": [
    "#In all sections we want to find name, location, price and area\n",
    "#We use for loop to loop through all subsections with the class names that holds our features we are looking for \n",
    "\n",
    "data = []\n",
    "for subs in sections:\n",
    "    \n",
    "    title = subs.find('h5', class_ = 'listing-title').text.strip()\n",
    "    price = subs.find('div', class_ = 'pull-left usd-price-tooltip').text.strip()\n",
    "    \n",
    "    features = subs.find_all('li', class_ = 'property')\n",
    "    for tags in features: \n",
    "        area = features[-2].text\n",
    "        location = features[-1].text\n",
    "    \n",
    "    #Storing the information into variable data\n",
    "    data.append([title, price, area, location])\n",
    "    \n",
    "data"
   ]
  },
  {
   "cell_type": "markdown",
   "metadata": {},
   "source": [
    "#### Our SCRP code works perfectly fine, as shown above it gives us a list of all features of the houses as they are listed"
   ]
  },
  {
   "cell_type": "markdown",
   "metadata": {},
   "source": [
    " "
   ]
  },
  {
   "cell_type": "markdown",
   "metadata": {},
   "source": [
    "## 2. Modifying SCRP to scrap more or defined pages from the site"
   ]
  },
  {
   "cell_type": "code",
   "execution_count": 67,
   "metadata": {
    "scrolled": true
   },
   "outputs": [
    {
     "name": "stdout",
     "output_type": "stream",
     "text": [
      "How many pages do you want to scrap\n",
      "\n",
      "160\n"
     ]
    }
   ],
   "source": [
    "#Asking the reader how many pages they want to scrap\n",
    "\n",
    "stop = int(input('How many pages do you want to scrap\\n\\n'))"
   ]
  },
  {
   "cell_type": "markdown",
   "metadata": {},
   "source": [
    " "
   ]
  },
  {
   "cell_type": "code",
   "execution_count": 68,
   "metadata": {
    "scrolled": false
   },
   "outputs": [],
   "source": [
    "#The website now has 3,503 pages as it has been updated, it had 3,494 yesterday 8 March 2023. For now we'll scrap from 160 pages\n",
    "\n",
    "url_base = \"https://www.classifieds.co.zw/zimbabwe-houses-for-sale?page=\"\n",
    "\n",
    "# Creating an empty list to later store our data\n",
    "data = []\n",
    "\n",
    "#Here we can modify the number of pages we want to scrap by adjusting on the stop element in our range\n",
    "\n",
    "for x in range(1,stop+1): \n",
    "    # here we are using variable x which is governed by the range above, x is the page number\n",
    "    new_url_base = f\"{url_base}{x}\"\n",
    "    \n",
    "    # Sending the request to the website to get the data and prompting it not to verify our request \n",
    "    web = requests.get(new_url_base, verify = False) \n",
    "    #urllib3.disable_warnings(urllib3.exceptions.InsecureRequestWarning)\n",
    "    \n",
    "    #if the web status code is 200 it means that our request was successful hence we proceed to scrape\n",
    "    if web.status_code == 200: \n",
    "        web_page = BeautifulSoup(web.content, 'html.parser')\n",
    "        \n",
    "        #We assign all the sections of the web to the variable listings \n",
    "        listings = web_page.find_all('div', class_ = \"details col-md-7 col-sm-7 col-xs-8\")\n",
    "        \n",
    "        #Having assigned all listings into the variable listing, we need now to scrap title name, price, area & location \n",
    "        \n",
    "        #We locate the tag that the name is found in the use our BeautifulSoup method (webpage) to find the tags and class name where we find title and price\n",
    "        \n",
    "              \n",
    "        for listing in listings:\n",
    "            \n",
    "            title = listing.find('h5', class_ = 'listing-title').text.strip()\n",
    "            price = listing.find('div', class_ = 'pull-left usd-price-tooltip').text.strip()\n",
    "        \n",
    "            #now using web inspection we find our that location, area, number of bedrooms and bathrooms have the same tag and html class name\n",
    "            \n",
    "            #on some listings there is no number of bathrooms, hence we discard those and only focus on area size and location \n",
    "        \n",
    "            #we use out method to find all tags with name 'li' and class name 'property' and assign them into features variable\n",
    "            features = listing.find_all('li', class_ = 'property')\n",
    "            \n",
    "            #From browsing through the page we found out that property features are at least 2, thus location and area. If thats not the case then we leave those features empty\n",
    "            if len(features) >= 2:\n",
    "                area = features[-2].text\n",
    "                location = features[-1].text\n",
    "            else: \n",
    "                area = \" \"\n",
    "                location = \" \"\n",
    "                 \n",
    "            #appending our informdation into the list data\n",
    "            data.append([title, price, area, location])\n",
    "        "
   ]
  },
  {
   "cell_type": "markdown",
   "metadata": {},
   "source": [
    " "
   ]
  },
  {
   "cell_type": "code",
   "execution_count": 69,
   "metadata": {
    "scrolled": false
   },
   "outputs": [
    {
     "data": {
      "text/plain": [
       "(3200, 4)"
      ]
     },
     "execution_count": 69,
     "metadata": {},
     "output_type": "execute_result"
    }
   ],
   "source": [
    "# Creating a pandas dataframe to display the data in a more visually appealling way and we can do our analysis without a hassle\n",
    "\n",
    "prop_prices = pd.DataFrame(data, columns = ['Title', 'Price', 'Area', 'Location'])\n",
    "prop_prices.shape"
   ]
  },
  {
   "cell_type": "markdown",
   "metadata": {},
   "source": [
    " "
   ]
  },
  {
   "cell_type": "markdown",
   "metadata": {},
   "source": [
    "## 3. Data cleaning so that we can draw some infererence from our data"
   ]
  },
  {
   "cell_type": "code",
   "execution_count": 70,
   "metadata": {},
   "outputs": [],
   "source": [
    "# We start by creating a CSV file and store our data into that file \n",
    "\n",
    "prop_prices.to_csv('housing_data.csv', index = False)"
   ]
  },
  {
   "cell_type": "code",
   "execution_count": 71,
   "metadata": {},
   "outputs": [
    {
     "data": {
      "text/html": [
       "<div>\n",
       "<style scoped>\n",
       "    .dataframe tbody tr th:only-of-type {\n",
       "        vertical-align: middle;\n",
       "    }\n",
       "\n",
       "    .dataframe tbody tr th {\n",
       "        vertical-align: top;\n",
       "    }\n",
       "\n",
       "    .dataframe thead th {\n",
       "        text-align: right;\n",
       "    }\n",
       "</style>\n",
       "<table border=\"1\" class=\"dataframe\">\n",
       "  <thead>\n",
       "    <tr style=\"text-align: right;\">\n",
       "      <th></th>\n",
       "      <th>Title</th>\n",
       "      <th>Price</th>\n",
       "      <th>Area</th>\n",
       "      <th>Location</th>\n",
       "    </tr>\n",
       "  </thead>\n",
       "  <tbody>\n",
       "    <tr>\n",
       "      <th>3195</th>\n",
       "      <td>Borrowdale - House, House</td>\n",
       "      <td>$200,000</td>\n",
       "      <td>4000 m²</td>\n",
       "      <td>harare north</td>\n",
       "    </tr>\n",
       "    <tr>\n",
       "      <th>3196</th>\n",
       "      <td>Glen Lorne - House</td>\n",
       "      <td>$450,000</td>\n",
       "      <td>5100 m²</td>\n",
       "      <td>harare north</td>\n",
       "    </tr>\n",
       "    <tr>\n",
       "      <th>3197</th>\n",
       "      <td>Tynwald - House</td>\n",
       "      <td>$55,000</td>\n",
       "      <td>400 m²</td>\n",
       "      <td>harare west</td>\n",
       "    </tr>\n",
       "    <tr>\n",
       "      <th>3198</th>\n",
       "      <td>Southwood - House</td>\n",
       "      <td>$45,000</td>\n",
       "      <td>1575 m²</td>\n",
       "      <td>kwekwe</td>\n",
       "    </tr>\n",
       "    <tr>\n",
       "      <th>3199</th>\n",
       "      <td>Mandara - House, Townhouse Complex</td>\n",
       "      <td>$270,000</td>\n",
       "      <td>2000 m²</td>\n",
       "      <td>harare east</td>\n",
       "    </tr>\n",
       "  </tbody>\n",
       "</table>\n",
       "</div>"
      ],
      "text/plain": [
       "                                   Title     Price     Area      Location\n",
       "3195           Borrowdale - House, House  $200,000  4000 m²  harare north\n",
       "3196                  Glen Lorne - House  $450,000  5100 m²  harare north\n",
       "3197                     Tynwald - House   $55,000   400 m²   harare west\n",
       "3198                   Southwood - House   $45,000  1575 m²        kwekwe\n",
       "3199  Mandara - House, Townhouse Complex  $270,000  2000 m²   harare east"
      ]
     },
     "execution_count": 71,
     "metadata": {},
     "output_type": "execute_result"
    }
   ],
   "source": [
    "data = pd.read_csv('housing_data.csv')\n",
    "data.tail(5)"
   ]
  },
  {
   "cell_type": "code",
   "execution_count": 72,
   "metadata": {},
   "outputs": [
    {
     "data": {
      "text/plain": [
       "(3200, 4)"
      ]
     },
     "execution_count": 72,
     "metadata": {},
     "output_type": "execute_result"
    }
   ],
   "source": [
    "#Checking the shape of our data, to establish how many houses data we have\n",
    "data.shape"
   ]
  },
  {
   "cell_type": "code",
   "execution_count": null,
   "metadata": {
    "scrolled": true
   },
   "outputs": [],
   "source": [
    "#Checking for duplicates, as a way of validating if our code is not scrapping 1 page\n",
    "\n",
    "#data.duplicated()"
   ]
  },
  {
   "cell_type": "code",
   "execution_count": null,
   "metadata": {},
   "outputs": [],
   "source": []
  },
  {
   "cell_type": "code",
   "execution_count": null,
   "metadata": {},
   "outputs": [],
   "source": []
  },
  {
   "cell_type": "markdown",
   "metadata": {},
   "source": [
    "## 4. Data cleaning so that we can draw some infererence from our data"
   ]
  },
  {
   "cell_type": "code",
   "execution_count": null,
   "metadata": {},
   "outputs": [],
   "source": []
  }
 ],
 "metadata": {
  "kernelspec": {
   "display_name": "Python 3",
   "language": "python",
   "name": "python3"
  },
  "language_info": {
   "codemirror_mode": {
    "name": "ipython",
    "version": 3
   },
   "file_extension": ".py",
   "mimetype": "text/x-python",
   "name": "python",
   "nbconvert_exporter": "python",
   "pygments_lexer": "ipython3",
   "version": "3.7.3"
  }
 },
 "nbformat": 4,
 "nbformat_minor": 2
}
